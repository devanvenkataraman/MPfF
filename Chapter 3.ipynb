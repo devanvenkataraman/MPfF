{
 "cells": [
  {
   "cell_type": "code",
   "execution_count": 5,
   "metadata": {},
   "outputs": [],
   "source": [
    "# an Incremental Search Algorithm\n",
    "\n",
    "import numpy as np\n",
    "\n",
    "# take func, define lower bound by a, upper bound by b, dx is our increment, n tracks number of iterations\n",
    "def incremental_search(func, a, b, dx):\n",
    "    fa = func(a)\n",
    "    c = a + dx\n",
    "    fc = func(c)\n",
    "    n = 1\n",
    "    # while the signs match\n",
    "    while np.sign(fa) == np.sign(fc):\n",
    "        # if beyond upper bound, return last iteration\n",
    "        if a >= b:\n",
    "            return a - dx, n\n",
    "        # move a up to c, c moves up by increment\n",
    "        a = c\n",
    "        fa = fc\n",
    "        c = a + dx\n",
    "        fc = func(c)\n",
    "        n += 1\n",
    "    # if either is 0, we've found root\n",
    "    if fa == 0:\n",
    "        return a, n\n",
    "    elif fc == 0:\n",
    "        return c, n\n",
    "    # worst case we return the approximation (center of a and c)\n",
    "    else:\n",
    "        return (a + c)/2., n"
   ]
  },
  {
   "cell_type": "code",
   "execution_count": 8,
   "metadata": {},
   "outputs": [
    {
     "name": "stdout",
     "output_type": "stream",
     "text": [
      "Root is: 1.2414999999999783\n",
      "and it took 6242 iterations!\n"
     ]
    }
   ],
   "source": [
    "# Run incremental search algorithm with: y = x^3 + 2x^2 - 5 where x is bounded between -5 and 5 and dx of .001\n",
    "# Keyword lambda creates anonymous function w/ arg x (lambda calculus)\n",
    "y = lambda x: x**3 + 2.*x**2 - 5\n",
    "root, iterations = incremental_search(y, -5., 5., .001)\n",
    "print(\"Root is:\", root)\n",
    "print(\"and it took\", iterations, \"iterations!\")"
   ]
  },
  {
   "cell_type": "code",
   "execution_count": 9,
   "metadata": {},
   "outputs": [],
   "source": [
    "# Bisection method for root-finding\n",
    "# In the bisection method, assume bounded values a and b such that f(a) < 0 and f(b) > c with\n",
    "# some continuous function f(x). Repeat evaluation replacing c with either a or b accordingly.\n",
    "# Define a risk toleration and max iteration values to prevent infinite calculations\n",
    "\n",
    "def bisection(func, a, b, tol = 0.1, maxiter = 10):\n",
    "    c = (a+b)*0.5\n",
    "    n = 1\n",
    "    while n <= maxiter:\n",
    "        c = (a+b)*0.5\n",
    "        if func(c) == 0 or abs(a-b)*0.5 < tol:\n",
    "            # root is found or is very close\n",
    "            return c, n\n",
    "        n += 1\n",
    "        if func(c) < 0:\n",
    "            a = c\n",
    "        else:\n",
    "            b = c\n",
    "    return c, n"
   ]
  },
  {
   "cell_type": "code",
   "execution_count": 11,
   "metadata": {},
   "outputs": [
    {
     "name": "stdout",
     "output_type": "stream",
     "text": [
      "Root is: 1.241903305053711\n",
      "and it took 20 iterations\n"
     ]
    }
   ],
   "source": [
    "y = lambda x: x**3 + 2.*x**2 - 5\n",
    "root, iterations = bisection(y, -5, 5, 0.00001, 100)\n",
    "print(\"Root is:\", root)\n",
    "print (\"and it took\", iterations, \"iterations\")"
   ]
  },
  {
   "cell_type": "code",
   "execution_count": 24,
   "metadata": {},
   "outputs": [
    {
     "name": "stdout",
     "output_type": "stream",
     "text": [
      "Bisection Method: 1.2418967485427856\n",
      "Brent's Method: 1.2418967485427856\n"
     ]
    }
   ],
   "source": [
    "# Several other root-finding methods that seemed redundant\n",
    "# Scipy has its own optimize modules\n",
    "# Brent's method combines bisection, secant, and inverse quadratic interpolation\n",
    "# Call method is bisect or brentq.optimize(f, a, b, args, xtol, rtol, maxiter, ...)\n",
    "\n",
    "import scipy.optimize as optimize\n",
    "\n",
    "print(\"Bisection Method:\", optimize.bisect(y, -5., 5., xtol = 0.000001))\n",
    "print(\"Brent's Method:\", optimize.bisect(y, -5., 5., xtol = 0.000001))"
   ]
  },
  {
   "cell_type": "code",
   "execution_count": 27,
   "metadata": {},
   "outputs": [
    {
     "name": "stdout",
     "output_type": "stream",
     "text": [
      "[1.24189656]\n",
      "    fjac: array([[-1.]])\n",
      "     fun: array([3.55271368e-15])\n",
      " message: 'The solution converged.'\n",
      "    nfev: 12\n",
      "     qtf: array([-3.73605502e-09])\n",
      "       r: array([-9.59451815])\n",
      "  status: 1\n",
      " success: True\n",
      "       x: array([1.24189656])\n"
     ]
    }
   ],
   "source": [
    "# Using root and fsolve functions\n",
    "# Call Methods: root(fun, x0[, args, method, jac, tol, ...]) and fsolve(func, x0[, args, fprime, ...])\n",
    "\n",
    "dy = lambda x: 3.*x**2 + 4.*x\n",
    "\n",
    "print(optimize.fsolve(y, 5., fprime=dy))\n",
    "print(optimize.root(y, 5.))"
   ]
  },
  {
   "cell_type": "code",
   "execution_count": null,
   "metadata": {},
   "outputs": [],
   "source": []
  }
 ],
 "metadata": {
  "kernelspec": {
   "display_name": "Python 3",
   "language": "python",
   "name": "python3"
  },
  "language_info": {
   "codemirror_mode": {
    "name": "ipython",
    "version": 3
   },
   "file_extension": ".py",
   "mimetype": "text/x-python",
   "name": "python",
   "nbconvert_exporter": "python",
   "pygments_lexer": "ipython3",
   "version": "3.8.2"
  }
 },
 "nbformat": 4,
 "nbformat_minor": 4
}
