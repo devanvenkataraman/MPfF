{
 "cells": [
  {
   "cell_type": "code",
   "execution_count": 226,
   "metadata": {},
   "outputs": [],
   "source": [
    "# Creating an options base class\n",
    "\n",
    "class StockOption(object):\n",
    "    def __init__(self, S0, K, r = 0.05, T = 1, N = 2, pu = 0, pd = 0, div = 0, sigma = 0, is_put = False, is_am = False):\n",
    "    # S0 = initial stock price\n",
    "    # K = strike price\n",
    "    # r = risk-free rate\n",
    "    # T = time to maturity\n",
    "    # N = number of time steps\n",
    "    # pu = probability at up-state\n",
    "    # pd = probability at down-state\n",
    "    # div = dividend yield\n",
    "    # is_put = true for puts, false for calls\n",
    "    # is_am = true for American option, false for European\n",
    "        self.S0 = S0\n",
    "        self.K = K\n",
    "        self.r = r\n",
    "        self.T = T\n",
    "        self.N = max(1, N)\n",
    "        self.pu = pu\n",
    "        self.pd = pd\n",
    "        self.div = div\n",
    "        self.sigma = sigma\n",
    "        self.is_call = not is_put\n",
    "        self.is_european = not is_am\n",
    "        self.STs = [] # Declares the stock prices tree\n",
    "        \n",
    "        \n",
    "        # Find value of a single time step (in years)\n",
    "    @property\n",
    "    def dt(self):\n",
    "        return self.T/float(self.N)\n",
    "        \n",
    "    # Find discount factor\n",
    "    @property\n",
    "    def df(self):\n",
    "        return math.exp(-(self.r - self.div)*self.dt)"
   ]
  },
  {
   "cell_type": "code",
   "execution_count": 227,
   "metadata": {},
   "outputs": [],
   "source": [
    "import numpy as np\n",
    "import math\n",
    "from decimal import Decimal\n",
    "\n",
    "# make a Euro subclass\n",
    "class BinomialEuropeanOption(StockOption):\n",
    "    def setup_parameters(self):\n",
    "        self.M = self.N+1 # number of terminal nodes in tree\n",
    "        self.u = 1+self.pu\n",
    "        self.d = 1-self.pd\n",
    "        # solve for the risk-neutral probability of investing in the stock\n",
    "        self.qu = (math.exp((self.r-self.div)*self.dt)-self.d) / (self.u-self.d)\n",
    "        self.qd = 1-self.qu\n",
    "        \n",
    "    def init_stock_price_tree(self):\n",
    "        # initialize terminal price nodes to 0\n",
    "        self.STs = np.zeros(self.M)\n",
    "        \n",
    "        # calculate expected stock prices for each node\n",
    "        for i in range(self.M):\n",
    "            self.STs[i] = self.S0*(self.u**(self.N-i)) * (self.d**i)\n",
    "        # print('Stock tree is: ', self.STs)\n",
    "    \n",
    "    def init_payoffs_tree(self):\n",
    "        # return payoffs when reaching terminal nodes\n",
    "        if self.is_call:\n",
    "            return np.maximum(0, self.STs - self.K)\n",
    "        else:\n",
    "            return np.maximum(0, self.K - self.STs)\n",
    "        \n",
    "    def traverse_tree(self, payoffs):\n",
    "        # calculate discounted payoffs at each node\n",
    "        # print('pre-discounted payoffs are', payoffs)\n",
    "        # print('discount factor is: ', self.df)\n",
    "        # print('qu is', self.qu)\n",
    "        # print('qd is', self.qd)\n",
    "        \n",
    "        # starts at terminal nodes - discounts one level at a time weighing by risk neutral probabilities\n",
    "        for i in range(self.N):\n",
    "            payoffs = (payoffs[:-1]*self.qu + payoffs[1:]*self.qd)*self.df\n",
    "            # print('payoffs are', payoffs)\n",
    "        return payoffs\n",
    "        \n",
    "    def begin_tree_traversal(self):\n",
    "        payoffs = self.init_payoffs_tree()\n",
    "        return self.traverse_tree(payoffs)\n",
    "    \n",
    "    def price(self):\n",
    "        # delivers the price of the option\n",
    "        self.setup_parameters()\n",
    "        self.init_stock_price_tree()\n",
    "        payoffs = self.begin_tree_traversal()\n",
    "        return payoffs[0]"
   ]
  },
  {
   "cell_type": "code",
   "execution_count": 228,
   "metadata": {},
   "outputs": [
    {
     "name": "stdout",
     "output_type": "stream",
     "text": [
      "Euro put option price is:  4.330196749669495\n"
     ]
    }
   ],
   "source": [
    "# run an option\n",
    "eu_option = BinomialEuropeanOption(50, 52, r=0.05, T=4, N=4, pu=0.2, pd=0.2, is_put=True)\n",
    "eu_option1 = eu_option.price()\n",
    "print('Euro put option price is: ', eu_option1) "
   ]
  },
  {
   "cell_type": "code",
   "execution_count": 229,
   "metadata": {},
   "outputs": [],
   "source": [
    "# make an American subclass\n",
    "class BinomialTreeOption(StockOption):\n",
    "    def setup_parameters(self):\n",
    "        self.u = 1+self.pu\n",
    "        self.d = 1-self.pd\n",
    "        # solve for the risk-neutral probability of investing in the stock\n",
    "        self.qu = (math.exp((self.r-self.div)*self.dt)-self.d) / (self.u-self.d)\n",
    "        self.qd = 1-self.qu\n",
    "    \n",
    "    # use 2d numpy array to store expected returns of the stock prices for all time steps\n",
    "    def init_stock_price_tree(self):\n",
    "        # initialize 2D tree at T=0\n",
    "        # we need to store every node because it could be exercised at any time\n",
    "        self.STs = [np.array([self.S0])]\n",
    "        \n",
    "        # simulate the possible stock prices path, stores every node in that 2d array\n",
    "        # print('Finding the stock prices path: ')\n",
    "        for i in range(self.N):\n",
    "            prev_branches = self.STs[-1]\n",
    "            # print('prev_branches is: ', prev_branches)\n",
    "            st = np.concatenate((prev_branches*self.u, [prev_branches[-1]*self.d]))\n",
    "            # print('this tree is:', st)\n",
    "            self.STs.append(st) # add nodes at each time step\n",
    "            # print('Whole tree is:', self.STs)\n",
    "    \n",
    "    # Create the payoff tree as 2d numpy array, starting w intrinsic values of the option at maturity\n",
    "    def init_payoffs_tree(self):\n",
    "        if self.is_call:\n",
    "            return np.maximum(0, self.STs[self.N]-self.K)\n",
    "        else:\n",
    "            return np.maximum(0, self.K-self.STs[self.N])\n",
    "    \n",
    "    # returns max payoff values between exercising American option early and not exercising at all\n",
    "    def check_early_exercise(self, payoffs, node):\n",
    "        if self.is_call:\n",
    "            curr_node_payoff = self.STs[node]-self.K\n",
    "            return np.maximum(payoffs, curr_node_payoff)\n",
    "        else:\n",
    "            curr_node_payoff =  self.K-self.STs[node]\n",
    "            # print('curr_node_payoff is', curr_node_payoff[1])\n",
    "            # print('comparing payoffs of:', payoffs, 'and', curr_node_payoff)\n",
    "            return np.maximum(payoffs, curr_node_payoff)\n",
    "\n",
    "    def traverse_tree(self, payoffs):\n",
    "        # starting at the terminal nodes\n",
    "        # print('payoffs before:', payoffs)\n",
    "        for i in reversed(range(self.N)):\n",
    "            # Payoffs from not exercising the option\n",
    "            payoffs = (payoffs[:-1]*self.qu + payoffs[1:]*self.qd)*self.df\n",
    "            # print('Payoffs from not exercising the option:', payoffs)\n",
    "\n",
    "            # payoffs from exercising, for American options\n",
    "            if not self.is_european:\n",
    "                payoffs = self.check_early_exercise(payoffs, i)\n",
    "                # print('payoffs after early check is: ', payoffs)\n",
    "        return payoffs\n",
    "\n",
    "    def begin_tree_traversal(self):\n",
    "        payoffs = self.init_payoffs_tree()\n",
    "        # print('non-discounted payoffs of terminal nodes: ', payoffs)\n",
    "        return self.traverse_tree(payoffs)\n",
    "\n",
    "    def price(self):\n",
    "        # delivers the price of the option\n",
    "        self.setup_parameters()\n",
    "        self.init_stock_price_tree()\n",
    "        payoffs = self.begin_tree_traversal()\n",
    "        return payoffs[0]"
   ]
  },
  {
   "cell_type": "code",
   "execution_count": 230,
   "metadata": {},
   "outputs": [
    {
     "name": "stdout",
     "output_type": "stream",
     "text": [
      "American put option price is:  5.089632474198373\n"
     ]
    }
   ],
   "source": [
    "# test for an American option\n",
    "\n",
    "am_option = BinomialTreeOption(50, 52, r=0.05, T=2, N=2, pu=0.2, pd=0.2, is_put=True, is_am=True)\n",
    "print ('American put option price is: ', am_option.price())"
   ]
  },
  {
   "cell_type": "code",
   "execution_count": 231,
   "metadata": {},
   "outputs": [],
   "source": [
    "# Cox-Rubenstein model proposes binomial model matching the mean and variance of asset\n",
    "class BinomialCRROption(BinomialTreeOption):\n",
    "    def setup_parameters(self):\n",
    "        self.u = math.exp(self.sigma*math.sqrt(self.dt))\n",
    "        self.d = 1/self.u\n",
    "        self.qu = (math.exp((self.r-self.div)*self.dt)-self.d) / (self.u-self.d)\n",
    "        self.qd = 1-self.qu"
   ]
  },
  {
   "cell_type": "code",
   "execution_count": 232,
   "metadata": {},
   "outputs": [],
   "source": [
    "# Run a CRR binomial\n",
    "eu_option = BinomialCRROption(50, 52, r=0.05, T=2, N=2, sigma=0.3, is_put=True)\n",
    "eu_option2 = eu_option.price()\n",
    "\n",
    "eu_option_list = []\n",
    "eu_option_list.append(eu_option1)\n",
    "eu_option_list.append(eu_option2)"
   ]
  },
  {
   "cell_type": "code",
   "execution_count": 233,
   "metadata": {},
   "outputs": [],
   "source": [
    "# Leisen-Reimer tree approximates Black Scholes solution, uses inversion formula to achieve better accuracy\n",
    "class BinomialLROption(BinomialTreeOption):\n",
    "    def setup_parameters(self):\n",
    "        odd_N = self.N if (self.N % 2 == 0) else (self.N+1)\n",
    "        d1 = (math.log(self.S0/self.K) + ((self.r-self.div) + (self.sigma**2)/2)*self.T) / (self.sigma*math.sqrt(self.T))\n",
    "        d2 = (math.log(self.S0/self.K) - ((self.r-self.div) + (self.sigma**2)/2)*self.T) / (self.sigma*math.sqrt(self.T))\n",
    "        pbar = self.pp_2_inversion(d1, odd_N)\n",
    "        self.p = self.pp_2_inversion(d2, odd_N)\n",
    "        self.u = 1/self.df * pbar/self.p\n",
    "        self.d = (1/self.df - self.p*self.u)/(1-self.p)\n",
    "        self.qu = self.p\n",
    "        self.qd = 1-self.p\n",
    "        \n",
    "    def pp_2_inversion(self, z, n):\n",
    "        return .5 + math.copysign(1,z)*math.sqrt(.25-.25*math.exp(-((z/(n+1./3.+.1/(n+1)))**2.)*(n+1/6)))"
   ]
  },
  {
   "cell_type": "code",
   "execution_count": null,
   "metadata": {},
   "outputs": [],
   "source": []
  },
  {
   "cell_type": "code",
   "execution_count": 234,
   "metadata": {},
   "outputs": [],
   "source": [
    "# run a Leisen-Reimer\n",
    "eu_option = BinomialLROption(50, 52, r=0.05, T=2, N=4, sigma=0.3, is_put=True)\n",
    "eu_option3 = eu_option.price()\n",
    "eu_option_list.append(eu_option3)\n",
    "# PRICED THE LR WRONG FIX LATER"
   ]
  },
  {
   "cell_type": "code",
   "execution_count": 235,
   "metadata": {},
   "outputs": [],
   "source": [
    "# Because the nodes in CRR Binomial recombine at every other step, we can store unique nodes in\n",
    "# a lattice to reduce computing power\n",
    "class BinomialCRRLattice(BinomialCRROption):\n",
    "    def setup_parameters(self):\n",
    "        super(BinomialCRRLattice, self).setup_parameters() #inherits setup param from binomialCRR\n",
    "        self.M = 2*self.N+1\n",
    "        \n",
    "    def init_stock_price_tree(self):\n",
    "        self.STs = np.zeros(self.M)\n",
    "        self.STs[0] = self.S0*self.u**self.N # 1st index is if goes up at every time step\n",
    "        \n",
    "        for i in range(self.M)[1:]:\n",
    "            self.STs[i] = self.STs[i-1]*self.d # calculate rest of the indices\n",
    "            \n",
    "    def init_payoffs_tree(self):\n",
    "        odd_nodes = self.STs[::2]\n",
    "        print(odd_nodes)\n",
    "        if self.is_call:\n",
    "            return np.maximum(0, odd_nodes-self.K)\n",
    "        else:\n",
    "            return np.maximum(0, self.K-odd_nodes)\n",
    "        \n",
    "    def check_early_exercise(self, payoffs, node):\n",
    "        self.STs = self.STs[1:-1]\n",
    "        odd_STs = self.STs[::2]\n",
    "        print(odd_STs)\n",
    "        if self.is_call:\n",
    "            curr_node_payoff = odd_STs-self.K\n",
    "            return np.maximum(payoffs, curr_node_payoff)\n",
    "        else:\n",
    "            curr_node_payoff =  self.K-odd_STs\n",
    "            # print('curr_node_payoff is', curr_node_payoff[1])\n",
    "            # print('comparing payoffs of:', payoffs, 'and', curr_node_payoff)\n",
    "            return np.maximum(payoffs, curr_node_payoff)"
   ]
  },
  {
   "cell_type": "code",
   "execution_count": 236,
   "metadata": {},
   "outputs": [
    {
     "name": "stdout",
     "output_type": "stream",
     "text": [
      "[91.10594002 50.         27.4405818 ]\n",
      "EU Option 1 is priced at 4.330196749669495\n",
      "EU Option 2 is priced at 6.245708445206436\n",
      "EU Option 3 is priced at 14.39994943859485\n",
      "EU Option 4 is priced at 6.245708445206432\n"
     ]
    }
   ],
   "source": [
    "eu_option = BinomialCRRLattice(50, 52, r = 0.05, T = 2, N = 2, sigma = 0.3, is_put = True)\n",
    "eu_option_list.append(eu_option.price())\n",
    "\n",
    "j = 1\n",
    "# print(len(eu_option_list))\n",
    "for i in eu_option_list:\n",
    "    print('EU Option', j, 'is priced at', i)\n",
    "    j+=1"
   ]
  },
  {
   "cell_type": "code",
   "execution_count": null,
   "metadata": {},
   "outputs": [],
   "source": []
  }
 ],
 "metadata": {
  "kernelspec": {
   "display_name": "Python 3",
   "language": "python",
   "name": "python3"
  },
  "language_info": {
   "codemirror_mode": {
    "name": "ipython",
    "version": 3
   },
   "file_extension": ".py",
   "mimetype": "text/x-python",
   "name": "python",
   "nbconvert_exporter": "python",
   "pygments_lexer": "ipython3",
   "version": "3.8.2"
  }
 },
 "nbformat": 4,
 "nbformat_minor": 4
}
