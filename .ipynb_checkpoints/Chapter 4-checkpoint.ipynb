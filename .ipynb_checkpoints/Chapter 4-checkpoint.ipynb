{
 "cells": [
  {
   "cell_type": "code",
   "execution_count": 23,
   "metadata": {},
   "outputs": [],
   "source": [
    "# Creating an options base class\n",
    "\n",
    "class StockOption(object):\n",
    "    def __init__(self, S0, K, r = 0.05, T = 1, N = 2, pu = 0, pd = 0, div = 0, sigma = 0, \\\n",
    "                is_put = False, is_am = False):\n",
    "    # S0 = initial stock price\n",
    "    # K = strike price\n",
    "    # r = risk-free rate\n",
    "    # T = time to maturity\n",
    "    # N = number of time steps\n",
    "    # pu = probability at up-state\n",
    "    # pd = probability at down-state\n",
    "    # div = dividend yield\n",
    "    # is_put = true for puts, false for calls\n",
    "    # is_am = true for American option, false for European\n",
    "        self.S0 = S0\n",
    "        self.K = K\n",
    "        self.r = r\n",
    "        self.T = T\n",
    "        self.N = max(1, N)\n",
    "        self.pu = pu\n",
    "        self.pd = pd\n",
    "        self.div = div\n",
    "        self.sigma = sigma\n",
    "        self.is_call = not is_put\n",
    "        self.is_european = not is_am\n",
    "        self.STs = [] # Declares the stock prices tree\n",
    "        \n",
    "        \n",
    "        # Find value of a single time step (in years)\n",
    "    @property\n",
    "    def dt(self):\n",
    "        return self.T/float(self.N)\n",
    "        \n",
    "    # Find discount factor\n",
    "    @property\n",
    "    def df(self):\n",
    "        return math.exp(-(self.r - self.div)*self.dt)"
   ]
  },
  {
   "cell_type": "code",
   "execution_count": 54,
   "metadata": {},
   "outputs": [],
   "source": [
    "import numpy as np\n",
    "import math\n",
    "from decimal import Decimal\n",
    "\n",
    "# make a Euro subclass\n",
    "class BinomialEuropeanOption(StockOption):\n",
    "    def setup_parameters(self):\n",
    "        self.M = self.N+1 # number of terminal nodes in tree\n",
    "        self.u = 1+self.pu\n",
    "        self.d = 1-self.pd\n",
    "        # solve for the risk-neutral probability of investing in the stock\n",
    "        self.qu = (math.exp((self.r-self.div)*self.dt)-self.d) / (self.u-self.d)\n",
    "        self.qd = 1-self.qu\n",
    "        \n",
    "    def init_stock_price_tree(self):\n",
    "        # initialize terminal price nodes to 0\n",
    "        self.STs = np.zeros(self.M)\n",
    "        \n",
    "        # calculate expected stock prices for each node\n",
    "        for i in range(self.M):\n",
    "            self.STs[i] = self.S0*(self.u**(self.N-i)) * (self.d**i)\n",
    "            # print('Expected stock price at node', i, 'is', self.STs[i])\n",
    "    \n",
    "    def init_payoffs_tree(self):\n",
    "        # return payoffs when reaching terminal nodes\n",
    "        if self.is_call:\n",
    "            return np.maximum(0, self.STs - self.K)\n",
    "        else:\n",
    "            return np.maximum(0, self.K - self.STs)\n",
    "        \n",
    "    def traverse_tree(self, payoffs):\n",
    "        # calculate discounted payoffs at each node\n",
    "        print('pre-discounted payoffs are', payoffs)\n",
    "        for i in range(self.N):\n",
    "            payoffs = (payoffs[:-1]*self.qu + payoffs[1:]*self.qd)*self.df\n",
    "            # print('payoffs are', payoffs)\n",
    "        return payoffs\n",
    "        \n",
    "    def begin_tree_traversal(self):\n",
    "        payoffs = self.init_payoffs_tree()\n",
    "        return self.traverse_tree(payoffs)\n",
    "    \n",
    "    def price(self):\n",
    "        # delivers the price of the option\n",
    "        self.setup_parameters()\n",
    "        self.init_stock_price_tree()\n",
    "        payoffs = self.begin_tree_traversal()\n",
    "        return payoffs[0]"
   ]
  },
  {
   "cell_type": "code",
   "execution_count": 55,
   "metadata": {},
   "outputs": [
    {
     "name": "stdout",
     "output_type": "stream",
     "text": [
      "pre-discounted payoffs are [ 0.  4. 20.]\n",
      "Euro put option price is:  4.1926542806038585\n"
     ]
    }
   ],
   "source": [
    "# run an option\n",
    "eu_option = BinomialEuropeanOption(50, 52, r=0.05, T=2, N=2, pu=0.2, pd=0.2, is_put=True)\n",
    "print('Euro put option price is: ', eu_option.price()) "
   ]
  },
  {
   "cell_type": "code",
   "execution_count": null,
   "metadata": {},
   "outputs": [],
   "source": []
  }
 ],
 "metadata": {
  "kernelspec": {
   "display_name": "Python 3",
   "language": "python",
   "name": "python3"
  },
  "language_info": {
   "codemirror_mode": {
    "name": "ipython",
    "version": 3
   },
   "file_extension": ".py",
   "mimetype": "text/x-python",
   "name": "python",
   "nbconvert_exporter": "python",
   "pygments_lexer": "ipython3",
   "version": "3.8.2"
  }
 },
 "nbformat": 4,
 "nbformat_minor": 4
}
