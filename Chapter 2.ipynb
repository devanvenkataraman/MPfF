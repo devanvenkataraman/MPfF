{
 "cells": [
  {
   "cell_type": "code",
   "execution_count": 2,
   "metadata": {},
   "outputs": [],
   "source": [
    "#Linear regression w/ SML to solve for alpha and beta\n",
    "from scipy import stats\n",
    "stock_returns = [0.065, 0.0265, -0.0593, -0.001, 0.0346]\n",
    "market_returns = [0.055, -0.09, -0.041, 0.045, 0.022]"
   ]
  },
  {
   "cell_type": "code",
   "execution_count": 5,
   "metadata": {},
   "outputs": [
    {
     "name": "stdout",
     "output_type": "stream",
     "text": [
      "0.5077431878770808 -0.008481900352462384\n"
     ]
    }
   ],
   "source": [
    "beta, alpha, r_value, p_value, std_err = stats.linregress(stock_returns, market_returns)\n",
    "print(beta, alpha)"
   ]
  },
  {
   "cell_type": "code",
   "execution_count": 8,
   "metadata": {},
   "outputs": [
    {
     "name": "stdout",
     "output_type": "stream",
     "text": [
      "                            OLS Regression Results                            \n",
      "==============================================================================\n",
      "Dep. Variable:                      y   R-squared:                       0.955\n",
      "Model:                            OLS   Adj. R-squared:                  0.637\n",
      "Method:                 Least Squares   F-statistic:                     3.006\n",
      "Date:                Thu, 07 May 2020   Prob (F-statistic):              0.418\n",
      "Time:                        15:24:40   Log-Likelihood:                 13.330\n",
      "No. Observations:                   9   AIC:                            -10.66\n",
      "Df Residuals:                       1   BIC:                            -9.083\n",
      "Df Model:                           7                                         \n",
      "Covariance Type:            nonrobust                                         \n",
      "==============================================================================\n",
      "                 coef    std err          t      P>|t|      [0.025      0.975]\n",
      "------------------------------------------------------------------------------\n",
      "const          0.4054      0.535      0.758      0.587      -6.389       7.199\n",
      "x1             0.3348      0.615      0.545      0.682      -7.474       8.144\n",
      "x2            -0.3868      0.383     -1.011      0.497      -5.251       4.477\n",
      "x3             0.3757      0.362      1.038      0.488      -4.224       4.975\n",
      "x4             0.8878      0.324      2.740      0.223      -3.229       5.004\n",
      "x5            -0.6240      0.367     -1.699      0.339      -5.291       4.043\n",
      "x6            -0.1167      0.249     -0.468      0.721      -3.286       3.053\n",
      "x7            -0.0713      0.629     -0.113      0.928      -8.060       7.918\n",
      "==============================================================================\n",
      "Omnibus:                        3.094   Durbin-Watson:                   2.716\n",
      "Prob(Omnibus):                  0.213   Jarque-Bera (JB):                1.004\n",
      "Skew:                          -0.245   Prob(JB):                        0.605\n",
      "Kurtosis:                       1.439   Cond. No.                         33.3\n",
      "==============================================================================\n",
      "\n",
      "Warnings:\n",
      "[1] Standard Errors assume that the covariance matrix of the errors is correctly specified.\n",
      "[ 0.40541261  0.33479821 -0.38683873  0.37570555  0.88776819 -0.62395265\n",
      " -0.11669584 -0.07126895]\n"
     ]
    }
   ],
   "source": [
    "#multivariate linear regression using statsmodel\n",
    "import numpy as np\n",
    "import statsmodels.api as sm\n",
    "\n",
    "#create some sample data\n",
    "num_periods = 9\n",
    "all_values = np.array([np.random.random(8) for i in range(num_periods)])\n",
    "\n",
    "#filter the data\n",
    "y_values = all_values[:, 0]\n",
    "x_values = all_values[:, 1:]\n",
    "x_values = sm.add_constant(x_values)\n",
    "results = sm.OLS(y_values, x_values).fit()\n",
    "print(results.summary())\n",
    "print(results.params)"
   ]
  },
  {
   "cell_type": "code",
   "execution_count": 3,
   "metadata": {},
   "outputs": [
    {
     "name": "stdout",
     "output_type": "stream",
     "text": [
      "Maximization Results: \n",
      "x = 20.0\n",
      "y = 60.0\n"
     ]
    }
   ],
   "source": [
    "#Simple linear optimization with 2 vars using pulp Linear Programming\n",
    "import pulp\n",
    "x = pulp.LpVariable('x', lowBound = 0)\n",
    "y = pulp.LpVariable('y', lowBound = 0)\n",
    "problem = pulp.LpProblem('A simple maximization problem', pulp.LpMaximize)\n",
    "problem += 3*x + 2*y, 'The objective function'\n",
    "problem += 2*x + y <= 100, '1st constraint'\n",
    "problem += x + y <= 80, '2nd constraint'\n",
    "problem += x <= 40, '3rd constraint'\n",
    "problem.solve()\n",
    "print(\"Maximization Results: \")\n",
    "for variable in problem.variables():\n",
    "    print (variable.name, '=', variable.varValue)"
   ]
  },
  {
   "cell_type": "code",
   "execution_count": 1,
   "metadata": {},
   "outputs": [
    {
     "ename": "NameError",
     "evalue": "name 'pulp' is not defined",
     "output_type": "error",
     "traceback": [
      "\u001b[0;31m---------------------------------------------------------------------------\u001b[0m",
      "\u001b[0;31mNameError\u001b[0m                                 Traceback (most recent call last)",
      "\u001b[0;32m<ipython-input-1-0950e325880b>\u001b[0m in \u001b[0;36m<module>\u001b[0;34m\u001b[0m\n\u001b[1;32m      6\u001b[0m \u001b[0mvariable_costs\u001b[0m \u001b[0;34m=\u001b[0m \u001b[0;34m{\u001b[0m\u001b[0;34m'X'\u001b[0m\u001b[0;34m:\u001b[0m \u001b[0;36m500\u001b[0m\u001b[0;34m,\u001b[0m \u001b[0;34m'Y'\u001b[0m\u001b[0;34m:\u001b[0m \u001b[0;36m450\u001b[0m\u001b[0;34m,\u001b[0m \u001b[0;34m'Z'\u001b[0m\u001b[0;34m:\u001b[0m \u001b[0;36m450\u001b[0m\u001b[0;34m}\u001b[0m \u001b[0;31m#dictionary objects\u001b[0m\u001b[0;34m\u001b[0m\u001b[0;34m\u001b[0m\u001b[0m\n\u001b[1;32m      7\u001b[0m \u001b[0mfixed_costs\u001b[0m \u001b[0;34m=\u001b[0m \u001b[0;34m{\u001b[0m\u001b[0;34m'X'\u001b[0m\u001b[0;34m:\u001b[0m \u001b[0;36m4000\u001b[0m\u001b[0;34m,\u001b[0m \u001b[0;34m'Y'\u001b[0m\u001b[0;34m:\u001b[0m\u001b[0;36m2000\u001b[0m\u001b[0;34m,\u001b[0m \u001b[0;34m'Z'\u001b[0m\u001b[0;34m:\u001b[0m \u001b[0;36m6000\u001b[0m\u001b[0;34m}\u001b[0m \u001b[0;31m#dictionary objects\u001b[0m\u001b[0;34m\u001b[0m\u001b[0;34m\u001b[0m\u001b[0m\n\u001b[0;32m----> 8\u001b[0;31m \u001b[0mquantities\u001b[0m \u001b[0;34m=\u001b[0m \u001b[0mpulp\u001b[0m\u001b[0;34m.\u001b[0m\u001b[0mLpVariable\u001b[0m\u001b[0;34m(\u001b[0m\u001b[0;34m'quantity'\u001b[0m\u001b[0;34m,\u001b[0m \u001b[0mdealers\u001b[0m\u001b[0;34m,\u001b[0m \u001b[0mlowBound\u001b[0m\u001b[0;34m=\u001b[0m\u001b[0;36m0\u001b[0m\u001b[0;34m,\u001b[0m \u001b[0mcat\u001b[0m\u001b[0;34m=\u001b[0m\u001b[0mpulp\u001b[0m\u001b[0;34m.\u001b[0m\u001b[0mLpInteger\u001b[0m\u001b[0;34m)\u001b[0m\u001b[0;34m\u001b[0m\u001b[0;34m\u001b[0m\u001b[0m\n\u001b[0m\u001b[1;32m      9\u001b[0m \u001b[0mis_orders\u001b[0m \u001b[0;34m=\u001b[0m \u001b[0mpulp\u001b[0m\u001b[0;34m.\u001b[0m\u001b[0mLpVariable\u001b[0m\u001b[0;34m.\u001b[0m\u001b[0mdicts\u001b[0m\u001b[0;34m(\u001b[0m\u001b[0;34m'orders'\u001b[0m\u001b[0;34m,\u001b[0m \u001b[0mdealers\u001b[0m\u001b[0;34m,\u001b[0m \u001b[0mcat\u001b[0m\u001b[0;34m=\u001b[0m\u001b[0mpulp\u001b[0m\u001b[0;34m.\u001b[0m\u001b[0mLpBinary\u001b[0m\u001b[0;34m)\u001b[0m \u001b[0;31m#treat variable as a dictionary object\u001b[0m\u001b[0;34m\u001b[0m\u001b[0;34m\u001b[0m\u001b[0m\n",
      "\u001b[0;31mNameError\u001b[0m: name 'pulp' is not defined"
     ]
    }
   ],
   "source": [
    "#Minimization example: Integer programing model with binary conditions\n",
    "#Setup\n",
    "#\n",
    "#\n",
    "#\n",
    "#NEVER FIGURED THIS OUT JUST MOVING ON\n",
    "#\n",
    "#\n",
    "#\n",
    "dealers = ['X', 'Y', 'Z']\n",
    "variable_costs = {'X': 500, 'Y': 450, 'Z': 450} #dictionary objects\n",
    "fixed_costs = {'X': 4000, 'Y':2000, 'Z': 6000} #dictionary objects\n",
    "quantities = pulp.LpVariable('quantity', dealers, lowBound=0, cat=pulp.LpInteger)\n",
    "is_orders = pulp.LpVariable.dicts('orders', dealers, cat=pulp.LpBinary) #treat variable as a dictionary object"
   ]
  },
  {
   "cell_type": "code",
   "execution_count": 3,
   "metadata": {},
   "outputs": [
    {
     "name": "stdout",
     "output_type": "stream",
     "text": [
      "[  6.  15. -23.]\n"
     ]
    }
   ],
   "source": [
    "#Solving Linear Equations with Matrices\n",
    "# 2a + b + c = 4\n",
    "# a + 3b + 2c = 5\n",
    "# a = 6\n",
    "\n",
    "import numpy as np\n",
    "\n",
    "A = np.array([[2, 1, 1], [1, 3, 2], [1, 0, 0]])\n",
    "B = np.array([4, 5, 6])\n",
    "print(np.linalg.solve(A, B))"
   ]
  },
  {
   "cell_type": "code",
   "execution_count": null,
   "metadata": {},
   "outputs": [],
   "source": [
    "#There are several other Matrix-solving methods in the book but it seemed a bit redundant"
   ]
  }
 ],
 "metadata": {
  "kernelspec": {
   "display_name": "Python 3",
   "language": "python",
   "name": "python3"
  },
  "language_info": {
   "codemirror_mode": {
    "name": "ipython",
    "version": 3
   },
   "file_extension": ".py",
   "mimetype": "text/x-python",
   "name": "python",
   "nbconvert_exporter": "python",
   "pygments_lexer": "ipython3",
   "version": "3.8.2"
  }
 },
 "nbformat": 4,
 "nbformat_minor": 4
}
